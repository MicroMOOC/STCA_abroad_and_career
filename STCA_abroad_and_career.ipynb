{
 "cells": [
  {
   "cell_type": "code",
   "execution_count": null,
   "metadata": {},
   "outputs": [],
   "source": [
    "import pandas as pd\n",
    "\n",
    "degrees_that_pay_back = pd.read_csv(\"https://openedxvideosa.blob.core.chinacloudapi.cn/videos/MicroMOOC/datasets/STCA_abroad_and_career/degrees_that_pay_back.csv\")\n",
    "salaries_by_college_type = pd.read_csv(\"https://openedxvideosa.blob.core.chinacloudapi.cn/videos/MicroMOOC/datasets/STCA_abroad_and_career/salaries_by_college_type.csv\")\n",
    "salaries_by_region = pd.read_csv(\"https://openedxvideosa.blob.core.chinacloudapi.cn/videos/MicroMOOC/datasets/STCA_abroad_and_career/salaries_by_region.csv\")"
   ]
  }
 ],
 "metadata": {
  "kernelspec": {
   "display_name": "Python 3",
   "language": "python",
   "name": "python3"
  },
  "language_info": {
   "codemirror_mode": {
    "name": "ipython",
    "version": 3
   },
   "file_extension": ".py",
   "mimetype": "text/x-python",
   "name": "python",
   "nbconvert_exporter": "python",
   "pygments_lexer": "ipython3",
   "version": "3.7.6"
  }
 },
 "nbformat": 4,
 "nbformat_minor": 4
}
